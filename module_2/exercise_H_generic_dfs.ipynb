{
 "cells": [
  {
   "cell_type": "markdown",
   "metadata": {},
   "source": [
    "# Exercise H: Generic dfs\n",
    "\n",
    "Test your skills in processing of generic dfs files."
   ]
  },
  {
   "cell_type": "code",
   "execution_count": 1,
   "metadata": {},
   "outputs": [],
   "source": [
    "import mikeio\n",
    "import mikeio.generic"
   ]
  },
  {
   "cell_type": "markdown",
   "metadata": {},
   "source": [
    "## read()\n",
    "\n",
    "read returns a mikeio [Dataset](https://dhi.github.io/mikeio/api/Dataset.html) for any dfs file"
   ]
  },
  {
   "cell_type": "code",
   "execution_count": 2,
   "metadata": {},
   "outputs": [],
   "source": [
    "fn = './wind_20050501.dfs2'"
   ]
  },
  {
   "cell_type": "code",
   "execution_count": 3,
   "metadata": {},
   "outputs": [],
   "source": [
    "# read fn to a variable ds and determine:\n",
    "# a) the number of items\n",
    "# b) the start and end of the file\n",
    "# c) the minimum value for each timestep of the first item \n",
    "# (hint: use the .min(axis='space') on the dataarray"
   ]
  },
  {
   "cell_type": "code",
   "execution_count": 4,
   "metadata": {},
   "outputs": [],
   "source": [
    "ds = mikeio.read(fn)"
   ]
  },
  {
   "cell_type": "code",
   "execution_count": 7,
   "metadata": {},
   "outputs": [
    {
     "data": {
      "text/plain": [
       "3"
      ]
     },
     "execution_count": 7,
     "metadata": {},
     "output_type": "execute_result"
    }
   ],
   "source": [
    "# a)\n",
    "ds.n_items"
   ]
  },
  {
   "cell_type": "code",
   "execution_count": 14,
   "metadata": {},
   "outputs": [
    {
     "name": "stdout",
     "output_type": "stream",
     "text": [
      "2005-05-01 00:00:00 \t 2005-05-02 00:00:00\n"
     ]
    }
   ],
   "source": [
    "# b)\n",
    "start_t = ds.start_time\n",
    "end_t = ds.end_time\n",
    "print(start_t, '\\t', end_t)"
   ]
  },
  {
   "cell_type": "code",
   "execution_count": 77,
   "metadata": {},
   "outputs": [
    {
     "name": "stdout",
     "output_type": "stream",
     "text": [
      "The minimum value of Air Pressure at timestep 1 is 1013.8000 hPa\n",
      "The minimum value of Air Pressure at timestep 2 is 1013.6000 hPa\n",
      "The minimum value of Air Pressure at timestep 3 is 1013.4000 hPa\n",
      "The minimum value of Air Pressure at timestep 4 is 1013.1766 hPa\n",
      "The minimum value of Air Pressure at timestep 5 is 1013.1000 hPa\n",
      "The minimum value of Air Pressure at timestep 6 is 1013.3265 hPa\n",
      "The minimum value of Air Pressure at timestep 7 is 1013.2000 hPa\n",
      "The minimum value of Air Pressure at timestep 8 is 1012.9000 hPa\n",
      "The minimum value of Air Pressure at timestep 9 is 1013.3000 hPa\n",
      "The minimum value of Air Pressure at timestep 10 is 1013.4000 hPa\n",
      "The minimum value of Air Pressure at timestep 11 is 1013.2000 hPa\n",
      "The minimum value of Air Pressure at timestep 12 is 1012.7095 hPa\n",
      "The minimum value of Air Pressure at timestep 13 is 1013.6206 hPa\n",
      "The minimum value of Air Pressure at timestep 14 is 1013.8917 hPa\n",
      "The minimum value of Air Pressure at timestep 15 is 1013.8917 hPa\n",
      "The minimum value of Air Pressure at timestep 16 is 1013.5026 hPa\n",
      "The minimum value of Air Pressure at timestep 17 is 1013.8950 hPa\n",
      "The minimum value of Air Pressure at timestep 18 is 1014.0466 hPa\n",
      "The minimum value of Air Pressure at timestep 19 is 1013.7839 hPa\n",
      "The minimum value of Air Pressure at timestep 20 is 1013.5349 hPa\n",
      "The minimum value of Air Pressure at timestep 21 is 1013.5335 hPa\n",
      "The minimum value of Air Pressure at timestep 22 is 1013.7476 hPa\n",
      "The minimum value of Air Pressure at timestep 23 is 1013.6766 hPa\n",
      "The minimum value of Air Pressure at timestep 24 is 1013.3492 hPa\n",
      "The minimum value of Air Pressure at timestep 25 is 1013.3492 hPa\n"
     ]
    }
   ],
   "source": [
    "# c)\n",
    "for ts in range(len(ds.time)):    \n",
    "        min = ds[0].min(axis='space').values[ts]      \n",
    "        print(f'The minimum value of Air Pressure at timestep {ts+1} is {min:.4f} hPa')\n"
   ]
  },
  {
   "cell_type": "markdown",
   "metadata": {},
   "source": [
    "## concat()\n",
    "\n",
    "concat belongs to the submodule mikeio.generic"
   ]
  },
  {
   "cell_type": "code",
   "execution_count": 10,
   "metadata": {},
   "outputs": [],
   "source": [
    "fn1 = './wind_20050501.dfs2'\n",
    "fn2 = './wind_20050502.dfs2'\n",
    "fn3 = './wind_20050503.dfs2'"
   ]
  },
  {
   "cell_type": "code",
   "execution_count": 18,
   "metadata": {},
   "outputs": [],
   "source": [
    "# use concat and the above files to create a \n",
    "# new file \"wind_200505_3days.dfs2\"b"
   ]
  },
  {
   "cell_type": "code",
   "execution_count": 12,
   "metadata": {},
   "outputs": [],
   "source": [
    "fn4 = '../data/wind_20050504.dfs2'"
   ]
  },
  {
   "cell_type": "code",
   "execution_count": null,
   "metadata": {},
   "outputs": [],
   "source": [
    "# add also fn4 and see what happens. Why does it fail? "
   ]
  },
  {
   "cell_type": "markdown",
   "metadata": {},
   "source": [
    "## diff()\n",
    "\n",
    "diff() belongs to the submodule mikeio.generic "
   ]
  },
  {
   "cell_type": "code",
   "execution_count": null,
   "metadata": {},
   "outputs": [],
   "source": [
    "fnA = '../data/wind_20050501.dfs2'\n",
    "fnB = '../data/wind_20050501_v2.dfs2'"
   ]
  },
  {
   "cell_type": "code",
   "execution_count": null,
   "metadata": {},
   "outputs": [],
   "source": [
    "# use diff to produce a new file wind_20050501_diff.dfs2 \n",
    "# with the difference between the two above files"
   ]
  }
 ],
 "metadata": {
  "interpreter": {
   "hash": "fa576ebcd40e010bdc0ae86b06ce09151f3424f9e9aed6893ff04f39a9299d89"
  },
  "kernelspec": {
   "display_name": "Python 3 (ipykernel)",
   "language": "python",
   "name": "python3"
  },
  "language_info": {
   "codemirror_mode": {
    "name": "ipython",
    "version": 3
   },
   "file_extension": ".py",
   "mimetype": "text/x-python",
   "name": "python",
   "nbconvert_exporter": "python",
   "pygments_lexer": "ipython3",
   "version": "3.12.0"
  }
 },
 "nbformat": 4,
 "nbformat_minor": 4
}
