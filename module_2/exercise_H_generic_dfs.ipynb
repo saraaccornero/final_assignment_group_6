{
 "cells": [
  {
   "cell_type": "markdown",
   "metadata": {},
   "source": [
    "# Exercise H: Generic dfs\n",
    "\n",
    "Test your skills in processing of generic dfs files."
   ]
  },
  {
   "cell_type": "code",
   "execution_count": 1,
   "metadata": {},
   "outputs": [],
   "source": [
    "import mikeio\n",
    "import mikeio.generic"
   ]
  },
  {
   "cell_type": "markdown",
   "metadata": {},
   "source": [
    "## read()\n",
    "\n",
    "read returns a mikeio [Dataset](https://dhi.github.io/mikeio/api/Dataset.html) for any dfs file"
   ]
  },
  {
   "cell_type": "code",
   "execution_count": 2,
   "metadata": {},
   "outputs": [],
   "source": [
    "fn = './wind_20050501.dfs2'"
   ]
  },
  {
   "cell_type": "code",
   "execution_count": 3,
   "metadata": {},
   "outputs": [],
   "source": [
    "# read fn to a variable ds and determine:\n",
    "# a) the number of items\n",
    "# b) the start and end of the file\n",
    "# c) the minimum value for each timestep of the first item \n",
    "# (hint: use the .min(axis='space') on the dataarray"
   ]
  },
  {
   "cell_type": "code",
   "execution_count": 4,
   "metadata": {},
   "outputs": [],
   "source": [
    "ds = mikeio.read(fn)"
   ]
  },
  {
   "cell_type": "code",
   "execution_count": 7,
   "metadata": {},
   "outputs": [
    {
     "data": {
      "text/plain": [
       "3"
      ]
     },
     "execution_count": 7,
     "metadata": {},
     "output_type": "execute_result"
    }
   ],
   "source": [
    "# a)\n",
    "ds.n_items"
   ]
  },
  {
   "cell_type": "code",
   "execution_count": 14,
   "metadata": {},
   "outputs": [
    {
     "name": "stdout",
     "output_type": "stream",
     "text": [
      "2005-05-01 00:00:00 \t 2005-05-02 00:00:00\n"
     ]
    }
   ],
   "source": [
    "# b)\n",
    "start_t = ds.start_time\n",
    "end_t = ds.end_time\n",
    "print(start_t, '\\t', end_t)"
   ]
  },
  {
   "cell_type": "code",
   "execution_count": 77,
   "metadata": {},
   "outputs": [
    {
     "name": "stdout",
     "output_type": "stream",
     "text": [
      "The minimum value of Air Pressure at timestep 1 is 1013.8000 hPa\n",
      "The minimum value of Air Pressure at timestep 2 is 1013.6000 hPa\n",
      "The minimum value of Air Pressure at timestep 3 is 1013.4000 hPa\n",
      "The minimum value of Air Pressure at timestep 4 is 1013.1766 hPa\n",
      "The minimum value of Air Pressure at timestep 5 is 1013.1000 hPa\n",
      "The minimum value of Air Pressure at timestep 6 is 1013.3265 hPa\n",
      "The minimum value of Air Pressure at timestep 7 is 1013.2000 hPa\n",
      "The minimum value of Air Pressure at timestep 8 is 1012.9000 hPa\n",
      "The minimum value of Air Pressure at timestep 9 is 1013.3000 hPa\n",
      "The minimum value of Air Pressure at timestep 10 is 1013.4000 hPa\n",
      "The minimum value of Air Pressure at timestep 11 is 1013.2000 hPa\n",
      "The minimum value of Air Pressure at timestep 12 is 1012.7095 hPa\n",
      "The minimum value of Air Pressure at timestep 13 is 1013.6206 hPa\n",
      "The minimum value of Air Pressure at timestep 14 is 1013.8917 hPa\n",
      "The minimum value of Air Pressure at timestep 15 is 1013.8917 hPa\n",
      "The minimum value of Air Pressure at timestep 16 is 1013.5026 hPa\n",
      "The minimum value of Air Pressure at timestep 17 is 1013.8950 hPa\n",
      "The minimum value of Air Pressure at timestep 18 is 1014.0466 hPa\n",
      "The minimum value of Air Pressure at timestep 19 is 1013.7839 hPa\n",
      "The minimum value of Air Pressure at timestep 20 is 1013.5349 hPa\n",
      "The minimum value of Air Pressure at timestep 21 is 1013.5335 hPa\n",
      "The minimum value of Air Pressure at timestep 22 is 1013.7476 hPa\n",
      "The minimum value of Air Pressure at timestep 23 is 1013.6766 hPa\n",
      "The minimum value of Air Pressure at timestep 24 is 1013.3492 hPa\n",
      "The minimum value of Air Pressure at timestep 25 is 1013.3492 hPa\n"
     ]
    }
   ],
   "source": [
    "# c)\n",
    "for ts in range(len(ds.time)):    \n",
    "        min = ds[0].min(axis='space').values[ts]      \n",
    "        print(f'The minimum value of Air Pressure at timestep {ts+1} is {min:.4f} hPa')\n"
   ]
  },
  {
   "cell_type": "markdown",
   "metadata": {},
   "source": [
    "## concat()\n",
    "\n",
    "concat belongs to the submodule mikeio.generic"
   ]
  },
  {
   "cell_type": "code",
   "execution_count": 86,
   "metadata": {},
   "outputs": [
    {
     "data": {
      "text/plain": [
       "<mikeio.Dataset>\n",
       "dims: (time:25, y:13, x:13)\n",
       "time: 2005-05-01 00:00:00 - 2005-05-02 00:00:00 (25 records)\n",
       "geometry: Grid2D (ny=13, nx=13)\n",
       "items:\n",
       "  0:  P [hPa] <Air Pressure> (hectopascal)\n",
       "  1:  U [m/s] <Wind Velocity> (meter per sec)\n",
       "  2:  V [m/s] <Wind Velocity> (meter per sec)"
      ]
     },
     "execution_count": 86,
     "metadata": {},
     "output_type": "execute_result"
    }
   ],
   "source": [
    "fn1 = './wind_20050501.dfs2'\n",
    "fn2 = './wind_20050502.dfs2'\n",
    "fn3 = './wind_20050503.dfs2'\n",
    "mikeio.read(fn1)"
   ]
  },
  {
   "cell_type": "code",
   "execution_count": 18,
   "metadata": {},
   "outputs": [],
   "source": [
    "# use concat and the above files to create a \n",
    "# new file \"wind_200505_3days.dfs2\""
   ]
  },
  {
   "cell_type": "code",
   "execution_count": 80,
   "metadata": {},
   "outputs": [
    {
     "name": "stderr",
     "output_type": "stream",
     "text": [
      "100%|██████████| 3/3 [00:00<00:00, 196.57it/s]\n"
     ]
    }
   ],
   "source": [
    "fn_concat = mikeio.generic.concat(infilenames=[fn1, fn2, fn3], \n",
    "                                  outfilename='./wind_200505_3days.dfs2')"
   ]
  },
  {
   "cell_type": "code",
   "execution_count": 85,
   "metadata": {},
   "outputs": [
    {
     "data": {
      "text/plain": [
       "<mikeio.Dataset>\n",
       "dims: (time:25, y:13, x:13)\n",
       "time: 2005-05-04 00:00:00 - 2005-05-05 00:00:00 (25 records)\n",
       "geometry: Grid2D (ny=13, nx=13)\n",
       "items:\n",
       "  0:  U [m/s] <Wind Velocity> (meter per sec)\n",
       "  1:  V [m/s] <Wind Velocity> (meter per sec)"
      ]
     },
     "execution_count": 85,
     "metadata": {},
     "output_type": "execute_result"
    }
   ],
   "source": [
    "fn4 = './wind_20050504.dfs2'\n",
    "mikeio.read(fn4)"
   ]
  },
  {
   "cell_type": "code",
   "execution_count": null,
   "metadata": {},
   "outputs": [],
   "source": [
    "# add also fn4 and see what happens. Why does it fail? \n",
    "    # because the items in fn4 do not correspond to the items in fn1, fn2 and fn3: Air Pressure is missing."
   ]
  },
  {
   "cell_type": "code",
   "execution_count": 83,
   "metadata": {},
   "outputs": [
    {
     "ename": "TypeError",
     "evalue": "argument should be a str or an os.PathLike object where __fspath__ returns a str, not 'NoneType'",
     "output_type": "error",
     "traceback": [
      "\u001b[1;31m---------------------------------------------------------------------------\u001b[0m",
      "\u001b[1;31mTypeError\u001b[0m                                 Traceback (most recent call last)",
      "Cell \u001b[1;32mIn[83], line 1\u001b[0m\n\u001b[1;32m----> 1\u001b[0m fn_concat_2 \u001b[38;5;241m=\u001b[39m \u001b[43mmikeio\u001b[49m\u001b[38;5;241;43m.\u001b[39;49m\u001b[43mgeneric\u001b[49m\u001b[38;5;241;43m.\u001b[39;49m\u001b[43mconcat\u001b[49m\u001b[43m(\u001b[49m\u001b[43minfilenames\u001b[49m\u001b[38;5;241;43m=\u001b[39;49m\u001b[43m[\u001b[49m\u001b[43mfn_concat\u001b[49m\u001b[43m,\u001b[49m\u001b[43m \u001b[49m\u001b[43mfn4\u001b[49m\u001b[43m]\u001b[49m\u001b[43m,\u001b[49m\n\u001b[0;32m      2\u001b[0m \u001b[43m                                    \u001b[49m\u001b[43moutfilename\u001b[49m\u001b[38;5;241;43m=\u001b[39;49m\u001b[38;5;124;43m'\u001b[39;49m\u001b[38;5;124;43m./wind_200505_4days.dfs2\u001b[39;49m\u001b[38;5;124;43m'\u001b[39;49m\u001b[43m)\u001b[49m\n",
      "File \u001b[1;32mc:\\Users\\saac\\AppData\\Local\\Programs\\Python\\Python312\\Lib\\site-packages\\mikeio\\generic.py:454\u001b[0m, in \u001b[0;36mconcat\u001b[1;34m(infilenames, outfilename, keep)\u001b[0m\n\u001b[0;32m    434\u001b[0m \u001b[38;5;250m\u001b[39m\u001b[38;5;124;03m\"\"\"Concatenates files along the time axis\u001b[39;00m\n\u001b[0;32m    435\u001b[0m \n\u001b[0;32m    436\u001b[0m \u001b[38;5;124;03mOverlap handling is defined by the `keep` argument,  by default the last one will be used.\u001b[39;00m\n\u001b[1;32m   (...)\u001b[0m\n\u001b[0;32m    451\u001b[0m \u001b[38;5;124;03mThe list of input files have to be sorted, i.e. in chronological order\u001b[39;00m\n\u001b[0;32m    452\u001b[0m \u001b[38;5;124;03m\"\"\"\u001b[39;00m\n\u001b[0;32m    453\u001b[0m \u001b[38;5;66;03m# fast path for Dfs0\u001b[39;00m\n\u001b[1;32m--> 454\u001b[0m suffix \u001b[38;5;241m=\u001b[39m \u001b[43mpathlib\u001b[49m\u001b[38;5;241;43m.\u001b[39;49m\u001b[43mPath\u001b[49m\u001b[43m(\u001b[49m\u001b[43minfilenames\u001b[49m\u001b[43m[\u001b[49m\u001b[38;5;241;43m0\u001b[39;49m\u001b[43m]\u001b[49m\u001b[43m)\u001b[49m\u001b[38;5;241m.\u001b[39msuffix\n\u001b[0;32m    455\u001b[0m \u001b[38;5;28;01mif\u001b[39;00m suffix \u001b[38;5;241m==\u001b[39m \u001b[38;5;124m\"\u001b[39m\u001b[38;5;124m.dfs0\u001b[39m\u001b[38;5;124m\"\u001b[39m:\n\u001b[0;32m    456\u001b[0m     dss \u001b[38;5;241m=\u001b[39m [mikeio\u001b[38;5;241m.\u001b[39mread(f) \u001b[38;5;28;01mfor\u001b[39;00m f \u001b[38;5;129;01min\u001b[39;00m infilenames]\n",
      "File \u001b[1;32mc:\\Users\\saac\\AppData\\Local\\Programs\\Python\\Python312\\Lib\\pathlib.py:1163\u001b[0m, in \u001b[0;36mPath.__init__\u001b[1;34m(self, *args, **kwargs)\u001b[0m\n\u001b[0;32m   1160\u001b[0m     msg \u001b[38;5;241m=\u001b[39m (\u001b[38;5;124m\"\u001b[39m\u001b[38;5;124msupport for supplying keyword arguments to pathlib.PurePath \u001b[39m\u001b[38;5;124m\"\u001b[39m\n\u001b[0;32m   1161\u001b[0m            \u001b[38;5;124m\"\u001b[39m\u001b[38;5;124mis deprecated and scheduled for removal in Python \u001b[39m\u001b[38;5;132;01m{remove}\u001b[39;00m\u001b[38;5;124m\"\u001b[39m)\n\u001b[0;32m   1162\u001b[0m     warnings\u001b[38;5;241m.\u001b[39m_deprecated(\u001b[38;5;124m\"\u001b[39m\u001b[38;5;124mpathlib.PurePath(**kwargs)\u001b[39m\u001b[38;5;124m\"\u001b[39m, msg, remove\u001b[38;5;241m=\u001b[39m(\u001b[38;5;241m3\u001b[39m, \u001b[38;5;241m14\u001b[39m))\n\u001b[1;32m-> 1163\u001b[0m \u001b[38;5;28;43msuper\u001b[39;49m\u001b[43m(\u001b[49m\u001b[43m)\u001b[49m\u001b[38;5;241;43m.\u001b[39;49m\u001b[38;5;21;43m__init__\u001b[39;49m\u001b[43m(\u001b[49m\u001b[38;5;241;43m*\u001b[39;49m\u001b[43margs\u001b[49m\u001b[43m)\u001b[49m\n",
      "File \u001b[1;32mc:\\Users\\saac\\AppData\\Local\\Programs\\Python\\Python312\\Lib\\pathlib.py:373\u001b[0m, in \u001b[0;36mPurePath.__init__\u001b[1;34m(self, *args)\u001b[0m\n\u001b[0;32m    371\u001b[0m             path \u001b[38;5;241m=\u001b[39m arg\n\u001b[0;32m    372\u001b[0m         \u001b[38;5;28;01mif\u001b[39;00m \u001b[38;5;129;01mnot\u001b[39;00m \u001b[38;5;28misinstance\u001b[39m(path, \u001b[38;5;28mstr\u001b[39m):\n\u001b[1;32m--> 373\u001b[0m             \u001b[38;5;28;01mraise\u001b[39;00m \u001b[38;5;167;01mTypeError\u001b[39;00m(\n\u001b[0;32m    374\u001b[0m                 \u001b[38;5;124m\"\u001b[39m\u001b[38;5;124margument should be a str or an os.PathLike \u001b[39m\u001b[38;5;124m\"\u001b[39m\n\u001b[0;32m    375\u001b[0m                 \u001b[38;5;124m\"\u001b[39m\u001b[38;5;124mobject where __fspath__ returns a str, \u001b[39m\u001b[38;5;124m\"\u001b[39m\n\u001b[0;32m    376\u001b[0m                 \u001b[38;5;124mf\u001b[39m\u001b[38;5;124m\"\u001b[39m\u001b[38;5;124mnot \u001b[39m\u001b[38;5;132;01m{\u001b[39;00m\u001b[38;5;28mtype\u001b[39m(path)\u001b[38;5;241m.\u001b[39m\u001b[38;5;18m__name__\u001b[39m\u001b[38;5;132;01m!r}\u001b[39;00m\u001b[38;5;124m\"\u001b[39m)\n\u001b[0;32m    377\u001b[0m         paths\u001b[38;5;241m.\u001b[39mappend(path)\n\u001b[0;32m    378\u001b[0m \u001b[38;5;28mself\u001b[39m\u001b[38;5;241m.\u001b[39m_raw_paths \u001b[38;5;241m=\u001b[39m paths\n",
      "\u001b[1;31mTypeError\u001b[0m: argument should be a str or an os.PathLike object where __fspath__ returns a str, not 'NoneType'"
     ]
    }
   ],
   "source": [
    "fn_concat_2 = mikeio.generic.concat(infilenames=[fn_concat, fn4],\n",
    "                                    outfilename='./wind_200505_4days.dfs2')"
   ]
  },
  {
   "cell_type": "markdown",
   "metadata": {},
   "source": [
    "## diff()\n",
    "\n",
    "diff() belongs to the submodule mikeio.generic "
   ]
  },
  {
   "cell_type": "code",
   "execution_count": 87,
   "metadata": {},
   "outputs": [],
   "source": [
    "fnA = './wind_20050501.dfs2'\n",
    "fnB = './wind_20050501_v2.dfs2'"
   ]
  },
  {
   "cell_type": "code",
   "execution_count": null,
   "metadata": {},
   "outputs": [],
   "source": [
    "# use diff to produce a new file wind_20050501_diff.dfs2 \n",
    "# with the difference between the two above files"
   ]
  },
  {
   "cell_type": "code",
   "execution_count": 89,
   "metadata": {},
   "outputs": [
    {
     "ename": "FileNotFoundError",
     "evalue": "wind_20050501_v2.dfs2",
     "output_type": "error",
     "traceback": [
      "\u001b[1;31m---------------------------------------------------------------------------\u001b[0m",
      "\u001b[1;31mFileNotFoundError\u001b[0m                         Traceback (most recent call last)",
      "Cell \u001b[1;32mIn[89], line 1\u001b[0m\n\u001b[1;32m----> 1\u001b[0m fn_diff \u001b[38;5;241m=\u001b[39m mikeio\u001b[38;5;241m.\u001b[39mgeneric\u001b[38;5;241m.\u001b[39mdiff(mikeio\u001b[38;5;241m.\u001b[39mread(fnA)\u001b[38;5;241m-\u001b[39m\u001b[43mmikeio\u001b[49m\u001b[38;5;241;43m.\u001b[39;49m\u001b[43mread\u001b[49m\u001b[43m(\u001b[49m\u001b[43mfnB\u001b[49m\u001b[43m)\u001b[49m)\n",
      "File \u001b[1;32mc:\\Users\\saac\\AppData\\Local\\Programs\\Python\\Python312\\Lib\\site-packages\\mikeio\\__init__.py:134\u001b[0m, in \u001b[0;36mread\u001b[1;34m(filename, items, time, keepdims, **kwargs)\u001b[0m\n\u001b[0;32m    131\u001b[0m \u001b[38;5;28;01mif\u001b[39;00m \u001b[38;5;124m\"\u001b[39m\u001b[38;5;124mdfs\u001b[39m\u001b[38;5;124m\"\u001b[39m \u001b[38;5;129;01mnot\u001b[39;00m \u001b[38;5;129;01min\u001b[39;00m ext:\n\u001b[0;32m    132\u001b[0m     \u001b[38;5;28;01mraise\u001b[39;00m \u001b[38;5;167;01mValueError\u001b[39;00m(\u001b[38;5;124m\"\u001b[39m\u001b[38;5;124mmikeio.read() is only supported for Dfs files\u001b[39m\u001b[38;5;124m\"\u001b[39m)\n\u001b[1;32m--> 134\u001b[0m dfs \u001b[38;5;241m=\u001b[39m \u001b[38;5;28;43mopen\u001b[39;49m\u001b[43m(\u001b[49m\u001b[43mfilename\u001b[49m\u001b[43m)\u001b[49m\n\u001b[0;32m    136\u001b[0m \u001b[38;5;28;01mreturn\u001b[39;00m dfs\u001b[38;5;241m.\u001b[39mread(items\u001b[38;5;241m=\u001b[39mitems, time\u001b[38;5;241m=\u001b[39mtime, keepdims\u001b[38;5;241m=\u001b[39mkeepdims, \u001b[38;5;241m*\u001b[39m\u001b[38;5;241m*\u001b[39mkwargs)\n",
      "File \u001b[1;32mc:\\Users\\saac\\AppData\\Local\\Programs\\Python\\Python312\\Lib\\site-packages\\mikeio\\__init__.py:187\u001b[0m, in \u001b[0;36mopen\u001b[1;34m(filename, **kwargs)\u001b[0m\n\u001b[0;32m    181\u001b[0m     \u001b[38;5;28;01mraise\u001b[39;00m \u001b[38;5;167;01mException\u001b[39;00m(\n\u001b[0;32m    182\u001b[0m         \u001b[38;5;124mf\u001b[39m\u001b[38;5;124m\"\u001b[39m\u001b[38;5;132;01m{\u001b[39;00mext\u001b[38;5;132;01m}\u001b[39;00m\u001b[38;5;124m is not a supported format for mikeio.open. Valid formats are \u001b[39m\u001b[38;5;132;01m{\u001b[39;00mvalid_formats\u001b[38;5;132;01m}\u001b[39;00m\u001b[38;5;124m\"\u001b[39m\n\u001b[0;32m    183\u001b[0m     )\n\u001b[0;32m    185\u001b[0m reader_klass \u001b[38;5;241m=\u001b[39m READERS[ext]\n\u001b[1;32m--> 187\u001b[0m \u001b[38;5;28;01mreturn\u001b[39;00m \u001b[43mreader_klass\u001b[49m\u001b[43m(\u001b[49m\u001b[43mfilename\u001b[49m\u001b[43m,\u001b[49m\u001b[43m \u001b[49m\u001b[38;5;241;43m*\u001b[39;49m\u001b[38;5;241;43m*\u001b[39;49m\u001b[43mkwargs\u001b[49m\u001b[43m)\u001b[49m\n",
      "File \u001b[1;32mc:\\Users\\saac\\AppData\\Local\\Programs\\Python\\Python312\\Lib\\site-packages\\mikeio\\dfs\\_dfs2.py:119\u001b[0m, in \u001b[0;36mDfs2.__init__\u001b[1;34m(self, filename, type)\u001b[0m\n\u001b[0;32m    113\u001b[0m \u001b[38;5;28;01mdef\u001b[39;00m \u001b[38;5;21m__init__\u001b[39m(\n\u001b[0;32m    114\u001b[0m     \u001b[38;5;28mself\u001b[39m,\n\u001b[0;32m    115\u001b[0m     filename: \u001b[38;5;28mstr\u001b[39m \u001b[38;5;241m|\u001b[39m Path,\n\u001b[0;32m    116\u001b[0m     \u001b[38;5;28mtype\u001b[39m: Literal[\u001b[38;5;124m\"\u001b[39m\u001b[38;5;124mhorizontal\u001b[39m\u001b[38;5;124m\"\u001b[39m, \u001b[38;5;124m\"\u001b[39m\u001b[38;5;124mspectral\u001b[39m\u001b[38;5;124m\"\u001b[39m, \u001b[38;5;124m\"\u001b[39m\u001b[38;5;124mvertical\u001b[39m\u001b[38;5;124m\"\u001b[39m] \u001b[38;5;241m=\u001b[39m \u001b[38;5;124m\"\u001b[39m\u001b[38;5;124mhorizontal\u001b[39m\u001b[38;5;124m\"\u001b[39m,\n\u001b[0;32m    117\u001b[0m ):\n\u001b[0;32m    118\u001b[0m     filename \u001b[38;5;241m=\u001b[39m \u001b[38;5;28mstr\u001b[39m(filename)\n\u001b[1;32m--> 119\u001b[0m     \u001b[38;5;28;43msuper\u001b[39;49m\u001b[43m(\u001b[49m\u001b[43m)\u001b[49m\u001b[38;5;241;43m.\u001b[39;49m\u001b[38;5;21;43m__init__\u001b[39;49m\u001b[43m(\u001b[49m\u001b[43mfilename\u001b[49m\u001b[43m)\u001b[49m\n\u001b[0;32m    121\u001b[0m     is_spectral \u001b[38;5;241m=\u001b[39m \u001b[38;5;28mtype\u001b[39m \u001b[38;5;241m==\u001b[39m \u001b[38;5;124m\"\u001b[39m\u001b[38;5;124mspectral\u001b[39m\u001b[38;5;124m\"\u001b[39m\n\u001b[0;32m    122\u001b[0m     is_vertical \u001b[38;5;241m=\u001b[39m \u001b[38;5;28mtype\u001b[39m \u001b[38;5;241m==\u001b[39m \u001b[38;5;124m\"\u001b[39m\u001b[38;5;124mvertical\u001b[39m\u001b[38;5;124m\"\u001b[39m\n",
      "File \u001b[1;32mc:\\Users\\saac\\AppData\\Local\\Programs\\Python\\Python312\\Lib\\site-packages\\mikeio\\dfs\\_dfs.py:278\u001b[0m, in \u001b[0;36m_Dfs123.__init__\u001b[1;34m(self, filename)\u001b[0m\n\u001b[0;32m    276\u001b[0m path \u001b[38;5;241m=\u001b[39m Path(filename)\n\u001b[0;32m    277\u001b[0m \u001b[38;5;28;01mif\u001b[39;00m \u001b[38;5;129;01mnot\u001b[39;00m path\u001b[38;5;241m.\u001b[39mexists():\n\u001b[1;32m--> 278\u001b[0m     \u001b[38;5;28;01mraise\u001b[39;00m \u001b[38;5;167;01mFileNotFoundError\u001b[39;00m(path)\n\u001b[0;32m    279\u001b[0m \u001b[38;5;28mself\u001b[39m\u001b[38;5;241m.\u001b[39m_filename \u001b[38;5;241m=\u001b[39m \u001b[38;5;28mstr\u001b[39m(filename) \u001b[38;5;28;01mif\u001b[39;00m filename \u001b[38;5;28;01melse\u001b[39;00m \u001b[38;5;28;01mNone\u001b[39;00m\n\u001b[0;32m    280\u001b[0m \u001b[38;5;28mself\u001b[39m\u001b[38;5;241m.\u001b[39m_end_time \u001b[38;5;241m=\u001b[39m \u001b[38;5;28;01mNone\u001b[39;00m\n",
      "\u001b[1;31mFileNotFoundError\u001b[0m: wind_20050501_v2.dfs2"
     ]
    }
   ],
   "source": [
    "fn_diff = mikeio.generic.diff(mikeio.read(fnA)-mikeio.read(fnB))"
   ]
  },
  {
   "cell_type": "code",
   "execution_count": null,
   "metadata": {},
   "outputs": [],
   "source": []
  }
 ],
 "metadata": {
  "interpreter": {
   "hash": "fa576ebcd40e010bdc0ae86b06ce09151f3424f9e9aed6893ff04f39a9299d89"
  },
  "kernelspec": {
   "display_name": "Python 3 (ipykernel)",
   "language": "python",
   "name": "python3"
  },
  "language_info": {
   "codemirror_mode": {
    "name": "ipython",
    "version": 3
   },
   "file_extension": ".py",
   "mimetype": "text/x-python",
   "name": "python",
   "nbconvert_exporter": "python",
   "pygments_lexer": "ipython3",
   "version": "3.12.0"
  }
 },
 "nbformat": 4,
 "nbformat_minor": 4
}
